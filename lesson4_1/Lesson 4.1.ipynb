{
 "cells": [
  {
   "cell_type": "code",
   "execution_count": 1,
   "metadata": {
    "collapsed": true
   },
   "outputs": [],
   "source": [
    "import pandas as pd\n",
    "import os"
   ]
  },
  {
   "cell_type": "code",
   "execution_count": 2,
   "metadata": {
    "collapsed": true
   },
   "outputs": [],
   "source": [
    "data_path = \"./names\""
   ]
  },
  {
   "cell_type": "code",
   "execution_count": 5,
   "metadata": {
    "collapsed": true
   },
   "outputs": [],
   "source": [
    "def read_years(years):\n",
    "    index = ['Name','Gender']\n",
    "    names = pd.DataFrame({'Name':[], 'Gender':[]})\n",
    "    for year in years:\n",
    "        cols = index + ['Count_%d'%year]\n",
    "        nfy = pd.read_csv(os.path.join(data_path, 'yob%d.txt'%year), names=cols)\n",
    "        names = names.merge(nfy, how='outer', on=index)\n",
    "    return names\n",
    "\n",
    "def count_top3(years):\n",
    "    data = read_years(years)\n",
    "    data['Count'] = data.sum(axis=1)\n",
    "    return data.sort_values(by=['Count'], ascending=False).head(3)['Name'].tolist()\n",
    "\n",
    "def count_dynamics(years):\n",
    "    data = read_years(years)\n",
    "    return data.groupby(by='Gender').sum().transpose().to_dict(orient='list')\n",
    "    "
   ]
  },
  {
   "cell_type": "code",
   "execution_count": 6,
   "metadata": {},
   "outputs": [
    {
     "data": {
      "text/plain": [
       "['James', 'John', 'Robert']"
      ]
     },
     "execution_count": 6,
     "metadata": {},
     "output_type": "execute_result"
    }
   ],
   "source": [
    "count_top3([1905,1950,2000])"
   ]
  },
  {
   "cell_type": "code",
   "execution_count": 7,
   "metadata": {},
   "outputs": [
    {
     "data": {
      "text/plain": [
       "{'F': [299810.0, 1713259.0, 1814922.0], 'M': [150486.0, 1790871.0, 1962744.0]}"
      ]
     },
     "execution_count": 7,
     "metadata": {},
     "output_type": "execute_result"
    }
   ],
   "source": [
    "count_dynamics([1900, 1950, 2000])"
   ]
  }
 ],
 "metadata": {
  "kernelspec": {
   "display_name": "Python 3",
   "language": "python",
   "name": "python3"
  },
  "language_info": {
   "codemirror_mode": {
    "name": "ipython",
    "version": 3
   },
   "file_extension": ".py",
   "mimetype": "text/x-python",
   "name": "python",
   "nbconvert_exporter": "python",
   "pygments_lexer": "ipython3",
   "version": "3.6.2"
  }
 },
 "nbformat": 4,
 "nbformat_minor": 2
}
